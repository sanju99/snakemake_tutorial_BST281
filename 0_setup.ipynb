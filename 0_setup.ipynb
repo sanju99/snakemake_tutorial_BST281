{
 "cells": [
  {
   "cell_type": "markdown",
   "id": "7dfee10a-5ef7-4469-beda-fecf3b6d9ae4",
   "metadata": {},
   "source": [
    "# Set-Up (Please Complete Before Class on April 28)\n",
    "\n",
    "There are a few tools that it would be beneficial to have set-up before the in-class activity."
   ]
  },
  {
   "cell_type": "markdown",
   "id": "45bd2085-8e33-4f25-919a-548a9a263ef4",
   "metadata": {},
   "source": [
    "# 1. SRA Toolkit\n",
    "\n",
    "SRA Toolkit is a suite of tools built by the NCBI for accessing data stored in the Sequence Read Archive (SRA). \n",
    "\n",
    "When accessing public data, you can download it from the GUIs provided by SRA or the European Nucleotide Archive (<a href=\"https://www.ebi.ac.uk/ena/browser/\" target=\"_blank\">ENA</a>), which has much of the same public data, or you can download data programmatically using SRA Toolkit, which is my preference.\n",
    "\n",
    "## Installation\n",
    "\n",
    "1. Download the appropriate installer for your machine from the first section of the page <a href=\"https://github.com/ncbi/sra-tools/wiki/01.-Downloading-SRA-Toolkit\" target=\"_blank\">here</a>.\n",
    "2. Unzip the folder and move it to your desired location. \n",
    "3. Follow the steps in this <a href=\"https://github.com/ncbi/sra-tools/wiki/03.-Quick-Toolkit-Configuration\" target=\"_blank\">Quick Configuration Guide</a>, specifically steps 1 and 3. Make sure to navigate to the `bin` subfolder within the sra-tool-kit folder that you just downloaded, before running `vdb-config -i`. For example, mine is `/Users/skulkarni/Desktop/sratoolkit.3.2.0-mac-arm64/bin`\n",
    "4. Add this line to your `~/.zshrc` or `~/.bashrc` file: `export PATH=\"/Users/skulkarni/Desktop/sratoolkit.3.2.0-mac-arm64/bin:$PATH\"`, changing the directory name to the one on your machine.\n",
    "5. Run `source ~/.zshrc` or `source ~/.bashrc` to update the changes.\n",
    "6. Check that you can run `fastq-dump` from any directory, not just where you downloaded the executable above to."
   ]
  },
  {
   "cell_type": "markdown",
   "id": "45746de1-f6c4-4d7d-9494-97f8e13868ae",
   "metadata": {},
   "source": [
    "# 2. Create a conda environment for snakemake\n",
    "\n",
    "It will be easiest for you to create the environment using the provided `envs/snakemake.yaml` file. Replace the `<env_name>` placeholder with your desired environment name.\n",
    "\n",
    "## 2.1 Apple Silicon Mac Users\n",
    "\n",
    "Many conda packages are not available for the Apple silicon processor (ARM), only for the Intel processors. \n",
    "\n",
    "However, you can create an Intel conda environment with a simple additional flag (<a href=\"https://blog.rtwilson.com/how-to-create-an-x64-intel-conda-environment-on-your-apple-silicon-mac-arm-conda-install/\" target=\"_blank\">original instructions</a>):\n",
    "\n",
    "```bash\n",
    "conda env create -f envs/snakemake.yaml --name <env_name> --platform osx-64 \n",
    "```\n",
    "\n",
    "\n",
    "## 2.2 All Other Users\n",
    "\n",
    "```bash\n",
    "conda env create -f envs/snakemake.yaml --name <env_name>\n",
    "```"
   ]
  },
  {
   "cell_type": "markdown",
   "id": "d3244cf6-1815-4517-95c5-fd1b4cf3fbcd",
   "metadata": {},
   "source": [
    "# 3. Install Visual Studio Code (Optional)\n",
    "\n",
    "Jupyter doesn't color snakemake syntax, which can be annoying while coding. VS Code does, however, which makes coding and debugging easier.\n",
    "\n",
    "After you've installed VS Code, install <a href=\"https://marketplace.visualstudio.com/items?itemName=Snakemake.snakemake-lang\" target=\"_blank\">Snakemake Language</a> to highlight syntax in your scripts."
   ]
  },
  {
   "cell_type": "code",
   "execution_count": null,
   "id": "3a00bb37-394b-4608-b691-34ab102e42db",
   "metadata": {},
   "outputs": [],
   "source": []
  }
 ],
 "metadata": {
  "kernelspec": {
   "display_name": "Python 3 (ipykernel)",
   "language": "python",
   "name": "python3"
  },
  "language_info": {
   "codemirror_mode": {
    "name": "ipython",
    "version": 3
   },
   "file_extension": ".py",
   "mimetype": "text/x-python",
   "name": "python",
   "nbconvert_exporter": "python",
   "pygments_lexer": "ipython3",
   "version": "3.12.2"
  }
 },
 "nbformat": 4,
 "nbformat_minor": 5
}
