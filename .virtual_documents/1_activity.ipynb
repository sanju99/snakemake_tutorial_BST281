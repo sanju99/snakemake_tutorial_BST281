























import os, glob, re
import numpy as np
import pandas as pd
import seaborn as sns
import matplotlib.pyplot as plt

out_dir = os.getcwd()





df_seq_stats = pd.concat([pd.read_csv(fName, sep='\t') for fName in glob.glob(f"{out_dir}/results/*/*/read_QC/*.tsv")])
len(df_seq_stats)


df_seq_stats['Run'] = df_seq_stats['file'].apply(lambda x: os.path.basename(x)).str.split('.').str[0]
df_seq_stats['Read'] = df_seq_stats['file'].apply(lambda x: os.path.basename(x)).str.split('.').str[1].str.split('.').str[0]


fig, ax = plt.subplots(figsize=(10, 4))

sns.barplot(data=df_seq_stats,
            x='Run',
            y='N50',
            hue='Read',
            hue_order=['R1', 'R2'],
           )

sns.despine()
plt.show()


fig, ax = plt.subplots(figsize=(10, 4))

sns.barplot(data=df_seq_stats,
            x='Run',
            y='AvgQual',
            hue='Read',
            hue_order=['R1', 'R2'],
           )

sns.despine()
plt.show()





kraken_fNames = glob.glob(f"{out_dir}/results/*/*/kraken/kraken_report.txt")
len(kraken_fNames)


df_kraken_summary = pd.DataFrame(columns=['SampleID', 'Unclassified_Perc', 'Mycobacteria_Perc', 'Second_Highest_Class', 'Second_Highest_Class_Perc', 'Human_Perc'])
i = 0

for i, fName in enumerate(kraken_fNames):

    sample = re.search(r"\bSAM\w+\d+\b", fName)[0]
    
    df_kraken_report = pd.read_csv(fName, sep='\t', header=None)
    df_kraken_report.columns = ['Percent_Reads', 'Num_Reads_Children', 'Num_Reads', 'Tax_Level', 'Tax_ID', 'Tax_Name']
    df_kraken_report = df_kraken_report.query("Num_Reads > 0").reset_index(drop=True)

    unclassified_reads_percent = df_kraken_report.query("Tax_Level=='U'").Percent_Reads.values[0]
    
    mycobacteria_reads_percent = df_kraken_report.query("Tax_ID==1763").Percent_Reads.values[0]

    second_highest_class = df_kraken_report.query("Tax_Level=='C' & ~Tax_Name.str.contains('Actinobacteria')").sort_values("Percent_Reads", ascending=False).Tax_Name.values[0]
    second_highest_class_reads_percent = df_kraken_report.query("Tax_Name==@second_highest_class").Percent_Reads.values[0]

    human_reads_percent = df_kraken_report.query("Tax_Name.str.contains('Homo sapiens')").Percent_Reads.values[0]
    
    df_kraken_summary.loc[i, :] = [sample, unclassified_reads_percent, mycobacteria_reads_percent, second_highest_class.lstrip().rstrip(), second_highest_class_reads_percent, human_reads_percent]
    i += 1


df_kraken_summary








def get_child_taxids(parent_taxid, email, max_results=500):
    '''
    1000 is the largest number of requests that can be returned at once. 
    
    Here, we're going to chunk it up into groups of 500 so that we don't submit too many requests at once.
    '''
    
    Entrez.email = email

    # Initialize variables
    all_taxids = []
    ret_start = 0

    while True:
        
        # Search for child taxids and keep going until all have been saved to a list
        search_handle = Entrez.esearch(db="taxonomy", term=f"txid{parent_taxid}[Subtree]", retstart=ret_start, retmax=max_results)
        search_results = Entrez.read(search_handle)
        search_handle.close()

        # Extract the list of taxids from the current batch
        id_list = search_results["IdList"]
        
        if not id_list:
            break  # No more results to fetch

        # Fetch details for the found taxids
        fetch_handle = Entrez.efetch(db="taxonomy", id=",".join(id_list), retmode="xml")
        fetch_results = Entrez.read(fetch_handle)
        fetch_handle.close()

        # Extract the taxids and add to cumulative list
        child_taxids = [taxon["TaxId"] for taxon in fetch_results]
        all_taxids.extend(np.unique(child_taxids))

        # if the number of returned taxids is the same as the maximum that can be returned, it means there are more than can be retrieved
        # so increment ret_start and keep going
        if len(child_taxids) == max_results:

            # break
            ret_start += max_results

            # wait to prevent a too many requests error
            time.sleep(1)

        # break out of the loop if we've retrieved all results
        else:
            break

    return np.array(all_taxids).astype(int)





df_kraken_report.query("Tax_Name.str.contains('Homo')")


df_kraken_report.query("Tax_Name.str.contains('Mycobacterium') & Tax_Level in ['G', 'G1']")



