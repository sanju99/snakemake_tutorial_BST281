{
 "cells": [
  {
   "cell_type": "markdown",
   "id": "17cfcdf1-b63a-4666-8b5c-c345eaede17f",
   "metadata": {},
   "source": [
    "# Building Bioinformatics Workflows with Snakemake"
   ]
  },
  {
   "cell_type": "markdown",
   "id": "d78322c9-9375-4ab0-82a2-3b8b162137b2",
   "metadata": {
    "jp-MarkdownHeadingCollapsed": true
   },
   "source": [
    "# Workflow Basics\n",
    "\n",
    "Once you have all of your rules, you define the workflow by the desired outputs. Snakemake then back fills all the rules that must be run, depending on the inputs and outputs of each rule, to get to the user-specified outputs.\n",
    "\n",
    "To run a workflow from the command line, the basic syntax is\n",
    "\n",
    "```bash\n",
    "snakemake --snakefile snakefile --use-conda --conda-frontend conda --configfile config.yaml --cores 1\n",
    "\n",
    "```\n",
    "\n",
    "<ul>\n",
    "    <li>You MUST specify the number of cores, otherwise snakemake will throw an error.</li>\n",
    "    <li>If you are using the mamba package manager <code>mamba</code>, replace <code>--conda-frontend conda</code> with <code>--conda-frontend mamba</code>.</li>\n",
    "</ul>\n",
    "\n",
    "In the above code, I specified the snakefile and config file to use. You can also change things like the home directory for a workflow (so all relative paths will be relative to this directory) with the `--directory` flag and specify a different directory where conda environments are stored than in this home directory with the `--conda-prefix` flag.\n",
    "\n",
    "You can also set the maximum available RAM with something like `--resources mem_mb=8000`, meaning that there are 8 GB of RAM available. \n",
    "\n",
    "We won't use them, but there are some additional helpful flags:\n",
    "\n",
    "<ul>\n",
    "    <li><code>--unlock</code>: Snakemake locks a directory in which a workflow is running, so you can not run multiple workflows from the same directory to prevent potential conflicts in the output files. The directory is unlocked once the process completes. Use this flag to unlock a directory, for example, if a process was interrupted.</li>\n",
    "    <li><code>--rerun-incomplete</code>: If a snakemake process is interrupted and some steps (jobs) only partially finished, rerun those</li>\n",
    "    <li><code>--keep-going</code>: If one job fails, but there are other jobs that do not rely on its outputs, run them. This is useful if you have many samples, and one fails, but the workflow can continue processing the others.</li>\n",
    "    <li><code>--dry-run</code>: Perform a dry run of the worfklow to ensure that the graph of jobs is valid and that all required inputs are present.</li>\n",
    "</ul>"
   ]
  },
  {
   "cell_type": "markdown",
   "id": "56a05e60-da4d-4c61-b5c6-c9b62f78b595",
   "metadata": {},
   "source": [
    "# Activity: Short-Read Processing and Classification for <i>M. tuberculosis</i>\n",
    "\n",
    "In this short activity, we will download short-read whole-genome sequencing for <i>Mycobacterium tuberculosis</i>, perform quality-control, and perform taxonomic classification.\n",
    "\n",
    "To get a pure bacterial sample, typically a sputum sample (coughed up by patients with respiratory infections) is cultured to select for the pathogen of interest. However, this loses some microbial diversity because the population is heterogeneous. There may be different <i>M. tuberculosis</i> clones in a single patient.\n",
    "\n",
    "Therefore, the sample we will be working with has been sequenced directly from sputum, without the culturing step, which leads to more DNA contaminants from\n",
    "\n",
    "<ul>\n",
    "    <li>Host (human)</li>\n",
    "    <li>Lung commensal bacteria</li>\n",
    "    <li>Environmental bacteria that commonly contaminate any laboratories</li>\n",
    "</ul>\n",
    "\n",
    "## Processing Steps\n",
    "\n",
    "1. Get quality control statistics on read length and quality using `fastqc` and `seqkit`.\n",
    "2. Trim sequencing adapters and remove reads that are too short using `fastp`.\n",
    "4. Perform taxonomic classification (actually we won't do this because it is too memory-intensive, so I have provided the output files) using `kraken2`.\n",
    "\n",
    "After this, we will inspect the taxonomic classifications of reads to see if they make sense with what we expect.\n",
    "\n",
    "# 1. Notebook Set Up"
   ]
  },
  {
   "cell_type": "code",
   "execution_count": 2,
   "id": "c4b7fb7b-13ab-4816-9800-d5ef0efc5ef5",
   "metadata": {},
   "outputs": [],
   "source": [
    "import os, glob, re\n",
    "import numpy as np\n",
    "import pandas as pd\n",
    "import seaborn as sns\n",
    "import matplotlib.pyplot as plt\n",
    "from Bio import Seq, SeqIO\n",
    "\n",
    "out_dir = os.getcwd()"
   ]
  },
  {
   "cell_type": "markdown",
   "id": "8f271a9b-bc6e-4b77-9eb3-a448a07a3a11",
   "metadata": {},
   "source": [
    "# 2. Run the workflow\n",
    "\n",
    "Run the following commands to generate all the output files (except the kraken classification files, which I have provided already)\n",
    "\n",
    "```bash\n",
    "cd snakemake_tutorial_BST281\n",
    "\n",
    "# activate the environment\n",
    "conda activate snakemake_tutorial_BST281\n",
    "\n",
    "# change the number of cores and RAM available for your local machine. Replace \"--conda-frontend conda\" with \"--conda-frontend mamba\" if you are using mamba\n",
    "snakemake --snakefile snakefile --use-conda --conda-frontend conda --configfile config.yaml --cores 8 --resources mem_mb=8000\n",
    "```"
   ]
  },
  {
   "cell_type": "markdown",
   "id": "fd990faf-0b94-469c-a424-017230b0659e",
   "metadata": {},
   "source": [
    "# 3. Read Quality Control\n",
    "\n",
    "## Questions\n",
    "\n",
    "### i. Plot the average quality of reads, stratified by sample and the read file (6 values total). Also plot the qualities scaled to error rates.\n",
    "\n",
    "### ii. What do you notice about the quality scoress for R1 vs. R2?\n",
    "\n",
    "The average quality of R2 reads is lower than the average quality of R1 reads. This is because the reverse reads are sequenced after the forward reads because the reads bound to the flow cell must be flipped over to do sequence the reverse reads.\n",
    "\n",
    "By the time the reverse reads are sequenced, the enzymes have somewhat degraded and reagents have been somewhat depleted, leading to lower fidelity sequencing. "
   ]
  },
  {
   "cell_type": "code",
   "execution_count": 3,
   "id": "f15002d1-864f-4824-ad12-502b54d60ed7",
   "metadata": {},
   "outputs": [
    {
     "data": {
      "text/plain": [
       "6"
      ]
     },
     "execution_count": 3,
     "metadata": {},
     "output_type": "execute_result"
    }
   ],
   "source": [
    "df_seq_stats = pd.concat([pd.read_csv(fName, sep='\\t') for fName in glob.glob(f\"{out_dir}/results/*/read_QC/*.tsv\")])\n",
    "\n",
    "# check that there are 6 files, 2 for each sample\n",
    "len(df_seq_stats)"
   ]
  },
  {
   "cell_type": "code",
   "execution_count": 4,
   "id": "29ed1f04-c9cd-419c-96b0-ce4a9971d26e",
   "metadata": {},
   "outputs": [],
   "source": [
    "df_seq_stats['Run'] = df_seq_stats['file'].apply(lambda x: os.path.basename(x)).str.split('.').str[0]\n",
    "df_seq_stats['Read'] = df_seq_stats['file'].apply(lambda x: os.path.basename(x)).str.split('.').str[1].str.split('.').str[0]"
   ]
  },
  {
   "cell_type": "code",
   "execution_count": 5,
   "id": "1a2c8f67-94a4-460d-b9ef-e5ec15308f4d",
   "metadata": {},
   "outputs": [
    {
     "data": {
      "image/png": "[encoded data removed]",
      "text/plain": [
       "<Figure size 600x400 with 1 Axes>"
      ]
     },
     "metadata": {},
     "output_type": "display_data"
    }
   ],
   "source": [
    "fig, ax = plt.subplots(figsize=(len(df_seq_stats), 4))\n",
    "\n",
    "sns.barplot(data=df_seq_stats,\n",
    "            x='Run',\n",
    "            y='AvgQual',\n",
    "            hue='Read',\n",
    "            hue_order=['R1', 'R2'],\n",
    "           )\n",
    "\n",
    "sns.despine()\n",
    "plt.show()"
   ]
  },
  {
   "cell_type": "code",
   "execution_count": 9,
   "id": "17d904a2-6801-4f2e-b3ed-17310fff83f9",
   "metadata": {},
   "outputs": [
    {
     "data": {
      "image/png": "[encoded data removed]",
      "text/plain": [
       "<Figure size 600x400 with 1 Axes>"
      ]
     },
     "metadata": {},
     "output_type": "display_data"
    }
   ],
   "source": [
    "# Q = -10 * log_10(P)\n",
    "# P = 10^(-Q / 10)\n",
    "df_seq_stats['Error_Rate_Percent'] = (10 ** (-df_seq_stats['AvgQual'] / 10)) * 100\n",
    "\n",
    "fig, ax = plt.subplots(figsize=(len(df_seq_stats), 4))\n",
    "\n",
    "sns.barplot(data=df_seq_stats,\n",
    "            x='Run',\n",
    "            y='Error_Rate_Percent',\n",
    "            hue='Read',\n",
    "            hue_order=['R1', 'R2'],\n",
    "           )\n",
    "\n",
    "plt.ylabel('Average Error Rate (%)')\n",
    "\n",
    "sns.despine()\n",
    "plt.show()"
   ]
  },
  {
   "cell_type": "markdown",
   "id": "fd6f5d14-c460-406a-85ad-3aa1f8a96097",
   "metadata": {},
   "source": [
    "# 4. Taxonomic Classification\n",
    "\n",
    "For taxonomic classification, we will use the Kraken suite of tools for metagenomic classification from Johns Hopkins. \n",
    "\n",
    "These tools use exact-matching of read k-mers against a Kraken database of k-mers from existing genomes.\n",
    "\n",
    "For full read classification, kraken tools are preferred over other methods (like MetaPhlan) because they contain genome-wide k-mers, rather than only k-mers that distinguish between taxa. So they can be used for both sample-level classification and read-level classification.\n",
    "\n",
    "Kraken2, the software we will be using, is also very fast.\n",
    "\n",
    "More about it here:\n",
    "\n",
    "<ul>\n",
    "    <li><a href=\"https://www.nature.com/articles/s41596-022-00738-y\" target=\"_blank\">Metagenome analysis using the Kraken software suite\n",
    "</a></li>\n",
    "    <li><a href=\"https://genomebiology.biomedcentral.com/articles/10.1186/s13059-019-1891-0\" target=\"_blank\">Improved metagenomic analysis with Kraken 2</a></li>\n",
    "</ul>\n",
    "\n",
    "Kraken2 produces 2 output files: \n",
    "\n",
    "1. a report summarizing the counts and percentages of reads that map to each taxon\n",
    "2. a large file of the taxon that each read was classified as\n",
    "\n",
    "<b>In each kraken report (`kraken_report.txt`), there are 6 columns:</b>\n",
    "\n",
    "1. Percentage of Reads: Percentage of total classified reads assigned to this taxon (including sub-taxa).\n",
    "2. Number of Reads: Number of reads assigned directly to this taxon (not including sub-taxa).\n",
    "3. Number of Reads (Including Sub-taxa): Number of reads assigned to this taxon plus all its sub-taxa.\n",
    "4. Taxonomic Rank Code: Single-letter code indicating taxonomic rank (e.g., U = Unclassified, R = Root, D = Domain, P = Phylum, C = Class, O = Order, F = Family, G = Genus, S = Species).\n",
    "5. NCBI Taxonomic ID: The NCBI Taxonomy ID for this taxon.\n",
    "6. Taxon Name: The name of the taxon, indented with leading spaces to show the hierarchy.\n",
    "\n",
    "<b>In each kraken classifications file (`kraken_classifications.txt.gz`), there are 5 columns:</b>\n",
    "\n",
    "1. C/U: Whether each read was classified (C) or unclassified (U).\n",
    "2. Read Name\n",
    "3. NCBI Taxonomic ID: The NCBI Taxonomy ID that the read was assigned to. If a read was unclassified, tha taxid is 0.\n",
    "4. Read Length\n",
    "5. String of the assignments for each k-mer within the read. `1763:15` means that 15 k-mers were classified to taxid 1763. For paired-end data, the `|:|` character separates the classifications for the first and second reads. `A:10` indicates that 10 k-mers had ambiguous nucleotides (Ns)."
   ]
  },
  {
   "cell_type": "markdown",
   "id": "ae61cf6f-65ae-42bb-a794-49b77d7a760f",
   "metadata": {},
   "source": [
    "## Questions\n",
    "\n",
    "### iii. What percent of reads map to the following groups in each sample:\n",
    "\n",
    "<ul>\n",
    "<li><i>Mycobacterium</i> genus</li>\n",
    "<li><i>Homo sapiens</i></li>\n",
    "<li>Unclassified</li>\n",
    "</ul>\n",
    "\n",
    "### iv. Where do you think the unclassified reads come from?\n",
    "\n",
    "### v. What is the most common bacterial contaminant (not in the <i>Mycobacterium</i> genus) in each sample?\n",
    "\n",
    "### vi. In any of the samples, is the most common genus not <i>Mycobacterium</i>?\n",
    "\n",
    "### vii. Where do you think these bacterial contaminants come from? Are they biological or technical?\n",
    "\n",
    "There was an interesting <a href=\"https://pmc.ncbi.nlm.nih.gov/articles/PMC4228153/\" target=\"_blank\">paper</a> published some years ago about contaminating DNA found in PCR and DNA library prep reagents. Many of the organisms from which this DNA originates are commensal bacteria or ubiquitous environmental bacteria."
   ]
  },
  {
   "cell_type": "code",
   "execution_count": 10,
   "id": "5924c17a-9055-4393-af1a-c7e11007caac",
   "metadata": {},
   "outputs": [
    {
     "data": {
      "text/plain": [
       "(3, 3)"
      ]
     },
     "execution_count": 10,
     "metadata": {},
     "output_type": "execute_result"
    }
   ],
   "source": [
    "kraken_fNames = glob.glob(f\"{out_dir}/results/*/kraken/kraken_report.txt\")\n",
    "kraken_classification_fNames = glob.glob(f\"{out_dir}/results/*/kraken/kraken_classifications.txt.gz\")\n",
    "\n",
    "# check that there are 3 files of each type -- the report and the full classifications\n",
    "len(kraken_fNames), len(kraken_classification_fNames)"
   ]
  },
  {
   "cell_type": "code",
   "execution_count": 12,
   "id": "ec85ce21-d4ed-41af-9792-f356920b8773",
   "metadata": {},
   "outputs": [],
   "source": [
    "df_kraken_summary = pd.DataFrame(columns=['SampleID', 'Unclassified_Perc', 'Mycobacteria_Perc', 'Second_Highest_Genus', 'Second_Highest_Genus_Perc', 'Second_Highest_Species', 'Second_Highest_Species_Perc', 'Human_Perc'])\n",
    "i = 0\n",
    "\n",
    "for i, fName in enumerate(kraken_fNames):\n",
    "\n",
    "    sample = re.search(r\"\\bERR\\w+\\d+\\b\", fName)[0]\n",
    "    \n",
    "    df_kraken_report = pd.read_csv(fName, sep='\\t', header=None)\n",
    "    df_kraken_report.columns = ['Percent_Reads', 'Num_Reads_Children', 'Num_Reads', 'Tax_Level', 'Tax_ID', 'Tax_Name']\n",
    "    df_kraken_report = df_kraken_report.query(\"Num_Reads > 0\").reset_index(drop=True)\n",
    "\n",
    "    unclassified_reads_percent = df_kraken_report.query(\"Tax_Level=='U'\").Percent_Reads.values[0]\n",
    "    \n",
    "    mycobacteria_reads_percent = df_kraken_report.query(\"Tax_ID==1763\").Percent_Reads.values[0]\n",
    "\n",
    "    second_highest_genus = df_kraken_report.query(\"Tax_Level=='G' & ~Tax_Name.str.contains('Mycobacter')\").sort_values(\"Percent_Reads\", ascending=False).Tax_Name.values[0]\n",
    "    second_highest_genus_reads_percent = df_kraken_report.query(\"Tax_Name==@second_highest_genus\").Percent_Reads.values[0]\n",
    "\n",
    "    second_highest_species = df_kraken_report.query(\"Tax_Level=='S' & ~Tax_Name.str.contains('Mycobacter')\").sort_values(\"Percent_Reads\", ascending=False).Tax_Name.values[0]\n",
    "    second_highest_species_reads_percent = df_kraken_report.query(\"Tax_Name==@second_highest_species\").Percent_Reads.values[0]\n",
    "\n",
    "    human_reads_percent = df_kraken_report.query(\"Tax_Name.str.contains('Homo sapiens')\").Percent_Reads.values[0]\n",
    "    \n",
    "    df_kraken_summary.loc[i, :] = [sample, unclassified_reads_percent, mycobacteria_reads_percent, second_highest_genus.lstrip().rstrip(), second_highest_genus_reads_percent, second_highest_species.lstrip().rstrip(), second_highest_species_reads_percent, human_reads_percent]\n",
    "    i += 1"
   ]
  },
  {
   "cell_type": "code",
   "execution_count": 13,
   "id": "f3820d75-f40b-4d30-af86-003d70f8dafb",
   "metadata": {},
   "outputs": [
    {
     "data": {
      "text/html": [
       "<div>\n",
       "<style scoped>\n",
       "    .dataframe tbody tr th:only-of-type {\n",
       "        vertical-align: middle;\n",
       "    }\n",
       "\n",
       "    .dataframe tbody tr th {\n",
       "        vertical-align: top;\n",
       "    }\n",
       "\n",
       "    .dataframe thead th {\n",
       "        text-align: right;\n",
       "    }\n",
       "</style>\n",
       "<table border=\"1\" class=\"dataframe\">\n",
       "  <thead>\n",
       "    <tr style=\"text-align: right;\">\n",
       "      <th></th>\n",
       "      <th>SampleID</th>\n",
       "      <th>Unclassified_Perc</th>\n",
       "      <th>Mycobacteria_Perc</th>\n",
       "      <th>Second_Highest_Genus</th>\n",
       "      <th>Second_Highest_Genus_Perc</th>\n",
       "      <th>Second_Highest_Species</th>\n",
       "      <th>Second_Highest_Species_Perc</th>\n",
       "      <th>Human_Perc</th>\n",
       "    </tr>\n",
       "  </thead>\n",
       "  <tbody>\n",
       "    <tr>\n",
       "      <th>0</th>\n",
       "      <td>ERR4808980</td>\n",
       "      <td>6.35</td>\n",
       "      <td>32.9</td>\n",
       "      <td>Brevibacillus</td>\n",
       "      <td>59.95</td>\n",
       "      <td>Brevibacillus agri</td>\n",
       "      <td>59.74</td>\n",
       "      <td>0.01</td>\n",
       "    </tr>\n",
       "    <tr>\n",
       "      <th>1</th>\n",
       "      <td>ERR4812963</td>\n",
       "      <td>0.49</td>\n",
       "      <td>58.84</td>\n",
       "      <td>Escherichia</td>\n",
       "      <td>17.96</td>\n",
       "      <td>Escherichia coli</td>\n",
       "      <td>15.0</td>\n",
       "      <td>0.03</td>\n",
       "    </tr>\n",
       "    <tr>\n",
       "      <th>2</th>\n",
       "      <td>ERR4808985</td>\n",
       "      <td>0.1</td>\n",
       "      <td>78.89</td>\n",
       "      <td>Staphylococcus</td>\n",
       "      <td>20.76</td>\n",
       "      <td>Staphylococcus epidermidis</td>\n",
       "      <td>10.26</td>\n",
       "      <td>0.0</td>\n",
       "    </tr>\n",
       "  </tbody>\n",
       "</table>\n",
       "</div>"
      ],
      "text/plain": [
       "     SampleID Unclassified_Perc Mycobacteria_Perc Second_Highest_Genus  \\\n",
       "0  ERR4808980              6.35              32.9        Brevibacillus   \n",
       "1  ERR4812963              0.49             58.84          Escherichia   \n",
       "2  ERR4808985               0.1             78.89       Staphylococcus   \n",
       "\n",
       "  Second_Highest_Genus_Perc      Second_Highest_Species  \\\n",
       "0                     59.95          Brevibacillus agri   \n",
       "1                     17.96            Escherichia coli   \n",
       "2                     20.76  Staphylococcus epidermidis   \n",
       "\n",
       "  Second_Highest_Species_Perc Human_Perc  \n",
       "0                       59.74       0.01  \n",
       "1                        15.0       0.03  \n",
       "2                       10.26        0.0  "
      ]
     },
     "execution_count": 13,
     "metadata": {},
     "output_type": "execute_result"
    }
   ],
   "source": [
    "df_kraken_summary"
   ]
  },
  {
   "cell_type": "markdown",
   "id": "9a4e0972-48db-44cf-869e-379e303d7fe8",
   "metadata": {},
   "source": [
    "# 5. Write your own rule\n",
    "\n",
    "Let's say we want to further investigate the unclassified reads to determine if they are something novel not represented in the standard Kraken database or if they are due to poor quality sequencing. The first step would be to gather the unclassified reads and their associated quality scores.\n",
    "\n",
    "## Questions\n",
    "\n",
    "### viii. How many reads are in each of the 6 FASTQ files (after the kraken-classification step)?\n",
    "\n",
    "Verify that the R1 and R2 files of each sample have the same numbers of reads.\n",
    "\n",
    "### ix. Extract the 1000th read (by count) from each file and print it and its name out.\n",
    "\n",
    "Do not use any tools other than Python (Biopython) and bash.\n",
    "\n",
    "```bash\n",
    "# The Nth read name is the (N - 1) * 4 + 1 line, so the 1000th line is the 999 * 4 + 1 = 3997 line\n",
    "# to get the Nth line of a gzipped file and the following 3 lines:\n",
    "N=3997\n",
    "fName=\"results/ERR4808980/fastp/ERR4808980.R1.trimmed.fastq.gz\"\n",
    "\n",
    "# gunzip unzips a gzipped file. -c flag means to NOT change the original file\n",
    "# sed -n \"${N}p\" finds the Nth line. Then we extract up to the (N+3)th line\n",
    "gunzip -c $fName | sed -n \"${N},$((N+3))p\"\n",
    "```\n",
    "\n",
    "### x. Write a rule to extract the unclassified reads for each sample and write them to new FASTQ files\n",
    "\n",
    "The `seqtk` <a href=\"https://github.com/lh3/seqtk\" target=\"_blank\">package</a> will be useful because it can extract reads by name. This package has already been installed in the `read_QC` environment.\n",
    "\n",
    "There should be two FASTQ files, one for the forward reads and one for the reverse. Add the rule to your `rules.smk` file. Update your `snakefile` accordingly and rerun the workflow. \n",
    "\n",
    "Notice that the workflow will only run the new rule because the previous rules nor their output files have been changed."
   ]
  },
  {
   "cell_type": "code",
   "execution_count": null,
   "id": "9788aae8-c078-44af-a89d-29d36da4adc2",
   "metadata": {},
   "outputs": [],
   "source": []
  }
 ],
 "metadata": {
  "kernelspec": {
   "display_name": "Python 3 (ipykernel)",
   "language": "python",
   "name": "python3"
  },
  "language_info": {
   "codemirror_mode": {
    "name": "ipython",
    "version": 3
   },
   "file_extension": ".py",
   "mimetype": "text/x-python",
   "name": "python",
   "nbconvert_exporter": "python",
   "pygments_lexer": "ipython3",
   "version": "3.12.2"
  }
 },
 "nbformat": 4,
 "nbformat_minor": 5
}
